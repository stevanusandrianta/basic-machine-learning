{
 "cells": [
  {
   "cell_type": "markdown",
   "metadata": {},
   "source": [
    "# Linear Algebra\n",
    "\n",
    "In this exercise, we will develop a Principal Component Analysis (PCA) algorithm that widely use to reduce the number of feature but preserving the main information of the data. PCA is also well known to removing noise and come up with cleaner dataset. \n",
    "\n",
    "This part will only handle matrix with rank 3  \n",
    "The outcome of this is a working example of PCA with 3 features"
   ]
  },
  {
   "cell_type": "code",
   "execution_count": 1,
   "metadata": {},
   "outputs": [],
   "source": [
    "import numpy as np"
   ]
  },
  {
   "cell_type": "markdown",
   "metadata": {},
   "source": [
    "## Step 1\n",
    "\n",
    "Preparing the dataset  \n",
    "Let's assume the data is 3 feature with 5 datapoints, every feature will be a vertical vector "
   ]
  },
  {
   "cell_type": "code",
   "execution_count": 2,
   "metadata": {},
   "outputs": [
    {
     "data": {
      "text/plain": [
       "array([[2, 5, 4],\n",
       "       [4, 1, 2],\n",
       "       [5, 2, 4],\n",
       "       [1, 2, 3],\n",
       "       [2, 3, 1]])"
      ]
     },
     "execution_count": 2,
     "metadata": {},
     "output_type": "execute_result"
    }
   ],
   "source": [
    "x1 = [2,4,5,1,2]\n",
    "x2 = [5,1,2,2,3]\n",
    "x3 = [4,2,4,3,1]\n",
    "\n",
    "#initialize data\n",
    "x = np.stack([x1,x2,x3]).T\n",
    "x"
   ]
  },
  {
   "cell_type": "markdown",
   "metadata": {},
   "source": [
    "## Step 2\n",
    "\n",
    "Calculating covariance matrix"
   ]
  },
  {
   "cell_type": "code",
   "execution_count": 3,
   "metadata": {},
   "outputs": [],
   "source": [
    "def calculate_covariance_matrix(x):\n",
    "    n_sample = x.shape[0]\n",
    "    normalized_x = x - x.mean(axis=0)\n",
    "    return (1/n_sample) * (normalized_x.T.dot(normalized_x))"
   ]
  },
  {
   "cell_type": "code",
   "execution_count": 4,
   "metadata": {},
   "outputs": [
    {
     "data": {
      "text/plain": [
       "array([[ 2.16, -0.88,  0.36],\n",
       "       [-0.88,  1.84,  0.52],\n",
       "       [ 0.36,  0.52,  1.36]])"
      ]
     },
     "execution_count": 4,
     "metadata": {},
     "output_type": "execute_result"
    }
   ],
   "source": [
    "cov_mat = calculate_covariance_matrix(x)\n",
    "cov_mat"
   ]
  },
  {
   "cell_type": "markdown",
   "metadata": {},
   "source": [
    "## Step 3\n",
    "\n",
    "Getting eigen values and eigen vector  \n",
    "Since this is a matrix will rank=3, there will be eigen value which we can find out by solving this equation\n",
    "\n",
    "\\begin{equation*}\n",
    "\\begin{vmatrix}\n",
    "var(X_1) - \\lambda & cov(X_1, X_2) & cov(X_1, X_3) \\\\\n",
    "cov(X_1, X_2) &  var(X_2) - \\lambda & cov(X_2, X_3) \\\\\n",
    "cov(X_1, X_3) &  cov(X_2, X_3) & var(X_3) - \\lambda\n",
    "\\end{vmatrix} = 0\n",
    "\\end{equation*}\n",
    "\n",
    "Then we will solve the 3rd degree polinomial and get each value of lambda  \n",
    "After that each value of lambda will be used to generate eagen vector"
   ]
  },
  {
   "cell_type": "code",
   "execution_count": 5,
   "metadata": {},
   "outputs": [
    {
     "data": {
      "text/plain": [
       "array([0.58960722, 2.89687973, 1.87351306])"
      ]
     },
     "execution_count": 5,
     "metadata": {},
     "output_type": "execute_result"
    }
   ],
   "source": [
    "eigen_values, eigen_vectors = np.linalg.eig(cov_mat)\n",
    "eigen_values"
   ]
  },
  {
   "cell_type": "code",
   "execution_count": 6,
   "metadata": {},
   "outputs": [
    {
     "data": {
      "text/plain": [
       "array([[ 0.48363446,  0.75722987,  0.43897681],\n",
       "       [ 0.60386509, -0.65172257,  0.4589168 ],\n",
       "       [-0.63359661, -0.04313479,  0.77246018]])"
      ]
     },
     "execution_count": 6,
     "metadata": {},
     "output_type": "execute_result"
    }
   ],
   "source": [
    "eigen_vectors"
   ]
  },
  {
   "cell_type": "markdown",
   "metadata": {},
   "source": [
    "## Step 4\n",
    "\n",
    "Sort eigen_value and eigen_vectors, and calculate cumulative percentage variance explained"
   ]
  },
  {
   "cell_type": "code",
   "execution_count": 10,
   "metadata": {},
   "outputs": [],
   "source": [
    "sorted_index = eigen_values.argsort()[::-1]\n",
    "eigen_values, eigen_vector = eigen_values[sorted_index], eigen_vectors[sorted_index]"
   ]
  },
  {
   "cell_type": "code",
   "execution_count": 11,
   "metadata": {},
   "outputs": [
    {
     "data": {
      "text/plain": [
       "array([0.54046264, 0.88999865, 1.        ])"
      ]
     },
     "execution_count": 11,
     "metadata": {},
     "output_type": "execute_result"
    }
   ],
   "source": [
    "cumulative_variance_explained = np.cumsum(eigen_values) / np.sum(eigen_values)\n",
    "cumulative_variance_explained"
   ]
  },
  {
   "cell_type": "markdown",
   "metadata": {},
   "source": [
    "## Step 5\n",
    "\n",
    "Get number of component that we will select transform the old dataset"
   ]
  },
  {
   "cell_type": "code",
   "execution_count": 13,
   "metadata": {},
   "outputs": [
    {
     "data": {
      "text/plain": [
       "array([[ 1.45220796, -1.91669229],\n",
       "       [ 1.27120971,  2.29092732],\n",
       "       [ 1.09151605,  2.31016504],\n",
       "       [-0.20942517, -0.67561965],\n",
       "       [ 2.14526759, -0.48384277]])"
      ]
     },
     "execution_count": 13,
     "metadata": {},
     "output_type": "execute_result"
    }
   ],
   "source": [
    "n_component = 2\n",
    "x_transformed = x.dot(eigen_vectors[:, :n_component])\n",
    "x_transformed"
   ]
  },
  {
   "cell_type": "code",
   "execution_count": null,
   "metadata": {},
   "outputs": [],
   "source": []
  },
  {
   "cell_type": "markdown",
   "metadata": {},
   "source": [
    "## Reflection\n",
    "\n",
    "In this exercise, i learn about how to implement a PCA with Numpy and using a linear algebra package from Numpy.\n",
    "It will be very tricky to implement PCA from scracth because of the complexity in calculating the eigen_values. We need to be able to calculate a polinomial equation to get the eigen_values\n",
    "\n",
    "PCA is a useful method to reduce the data dimension and removing noise from the dataset. However there will be some information that is gone after the feature reduction\n"
   ]
  }
 ],
 "metadata": {
  "kernelspec": {
   "display_name": "gcp_env",
   "language": "python",
   "name": "gcp_env"
  },
  "language_info": {
   "codemirror_mode": {
    "name": "ipython",
    "version": 3
   },
   "file_extension": ".py",
   "mimetype": "text/x-python",
   "name": "python",
   "nbconvert_exporter": "python",
   "pygments_lexer": "ipython3",
   "version": "3.6.8"
  }
 },
 "nbformat": 4,
 "nbformat_minor": 2
}
