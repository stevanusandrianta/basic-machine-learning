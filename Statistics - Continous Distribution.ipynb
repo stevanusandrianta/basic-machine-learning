{
 "cells": [
  {
   "cell_type": "markdown",
   "metadata": {},
   "source": [
    "# Continous Distribution\n",
    "\n",
    "In this exercise, i will develop a code to generate some continous distribution, which is:\n",
    "- Gaussian\n",
    "- Student T\n",
    "- Exponential\n",
    "- Gamma\n",
    "- Beta"
   ]
  },
  {
   "cell_type": "code",
   "execution_count": 5,
   "metadata": {},
   "outputs": [],
   "source": [
    "import collections\n",
    "import math\n",
    "\n",
    "import numpy as np\n",
    "from random import random\n",
    "import matplotlib.pyplot as plt\n"
   ]
  },
  {
   "cell_type": "code",
   "execution_count": 6,
   "metadata": {},
   "outputs": [],
   "source": [
    "def generate_plot(value):\n",
    "    x = np.arange(len(value))\n",
    "\n",
    "    plt.bar(x, value)\n",
    "    plt.show()"
   ]
  },
  {
   "cell_type": "code",
   "execution_count": 7,
   "metadata": {},
   "outputs": [],
   "source": [
    "def double_factorial(n):\n",
    "    res = 1\n",
    "    for i in range(n,0,-2):\n",
    "        res *= i\n",
    "    return res"
   ]
  },
  {
   "cell_type": "code",
   "execution_count": 8,
   "metadata": {},
   "outputs": [],
   "source": [
    "#how to make gamma function : https://en.wikipedia.org/wiki/Particular_values_of_the_gamma_function\n",
    "def gamma(n):\n",
    "    if n%1 == 0:\n",
    "        return math.factorial(n-1)\n",
    "    else:\n",
    "        integer_n = n-0.5\n",
    "        coef = math.sqrt(math.pi)\n",
    "        nom = math.factorial(2*integer_n)\n",
    "        denom = 4**integer_n * math.factorial(integer_n)\n",
    "        return coef * nom / denom"
   ]
  },
  {
   "cell_type": "markdown",
   "metadata": {},
   "source": [
    "## Gaussian Distribution\n",
    "\n",
    "parameter :  \n",
    "mu = average  \n",
    "sigma = standard deviation\n",
    "\n",
    "definition :  \n",
    "any measurement is usually normal distributed"
   ]
  },
  {
   "cell_type": "code",
   "execution_count": 9,
   "metadata": {},
   "outputs": [],
   "source": [
    "def gaussian(y, mu, sigma, start=0, end=10, incremental=0.01):\n",
    "    e_nominator = -(y-mu)**2\n",
    "    e_denominator = 2*sigma**2\n",
    "    coef = (sigma * math.sqrt(2 * math.pi))**-1\n",
    "    return coef * math.exp(e_nominator/e_denominator)"
   ]
  },
  {
   "cell_type": "code",
   "execution_count": 10,
   "metadata": {},
   "outputs": [
    {
     "data": {
      "image/png": "[encoded data removed]",
      "text/plain": [
       "<Figure size 432x288 with 1 Axes>"
      ]
     },
     "metadata": {
      "needs_background": "light"
     },
     "output_type": "display_data"
    }
   ],
   "source": [
    "generate_plot([gaussian(i, 5, 2) for i in np.arange(1,10,0.1)])"
   ]
  },
  {
   "cell_type": "markdown",
   "metadata": {},
   "source": [
    "## Student T distribution\n",
    "\n",
    "parameter :  \n",
    "mu = average  \n",
    "sigma = standard deviation  \n",
    "v = degree of freedom\n",
    "\n",
    "definition :  \n"
   ]
  },
  {
   "cell_type": "code",
   "execution_count": 11,
   "metadata": {},
   "outputs": [],
   "source": [
    "def student_t(y, mu, sigma, v, start=0, end=10, incremental=0.01):\n",
    "    coef_nom = gamma((v+1)/2)\n",
    "    coef_denom = gamma(v/2) * math.sqrt(math.pi*v*sigma**2)\n",
    "    nom = (y-mu)**2\n",
    "    denom = v*sigma**2\n",
    "    power = -(v+1)/2\n",
    "    return (coef_nom/coef_denom) * (1 + (nom/denom))**power"
   ]
  },
  {
   "cell_type": "code",
   "execution_count": 12,
   "metadata": {},
   "outputs": [
    {
     "data": {
      "image/png": "[encoded data removed]",
      "text/plain": [
       "<Figure size 432x288 with 1 Axes>"
      ]
     },
     "metadata": {
      "needs_background": "light"
     },
     "output_type": "display_data"
    }
   ],
   "source": [
    "generate_plot([student_t(i, 5, 2, 1) for i in np.arange(1,10,0.1)])"
   ]
  },
  {
   "cell_type": "markdown",
   "metadata": {},
   "source": [
    "## Exponential\n",
    "\n",
    "parameter :  \n",
    "beta\n",
    "\n",
    "definition :  \n",
    "waiting time for an arrival in poisson process is Exponentially distributed\n"
   ]
  },
  {
   "cell_type": "code",
   "execution_count": 15,
   "metadata": {},
   "outputs": [],
   "source": [
    "def exponential(y, beta, start=0, end=10, incremental=0.01):\n",
    "    return beta * math.exp(-1*beta*y)"
   ]
  },
  {
   "cell_type": "code",
   "execution_count": 16,
   "metadata": {},
   "outputs": [
    {
     "data": {
      "image/png": "[encoded data removed]",
      "text/plain": [
       "<Figure size 432x288 with 1 Axes>"
      ]
     },
     "metadata": {
      "needs_background": "light"
     },
     "output_type": "display_data"
    }
   ],
   "source": [
    "generate_plot([exponential(i, 1) for i in np.arange(1,10,0.1)])"
   ]
  },
  {
   "cell_type": "markdown",
   "metadata": {},
   "source": [
    "## Gamma Distribution\n",
    "\n",
    "parameter :  \n",
    "n = total of event  \n",
    "beta = \n",
    "\n",
    "definition :  \n",
    "waiting time for an arrival in poisson process is Exponentially distributed"
   ]
  },
  {
   "cell_type": "code",
   "execution_count": 19,
   "metadata": {},
   "outputs": [],
   "source": [
    "def gamma_dist(y, n, beta, start=0, end=10, incremental=0.01):\n",
    "    coef_nom = (beta*y)**n\n",
    "    coef_denom = gamma(n)*y\n",
    "    return (coef_nom/coef_denom)*math.exp(-1*beta*y)"
   ]
  },
  {
   "cell_type": "code",
   "execution_count": 20,
   "metadata": {},
   "outputs": [
    {
     "data": {
      "image/png": "[encoded data removed]",
      "text/plain": [
       "<Figure size 432x288 with 1 Axes>"
      ]
     },
     "metadata": {
      "needs_background": "light"
     },
     "output_type": "display_data"
    }
   ],
   "source": [
    "generate_plot([gamma_dist(i, 3, 1) for i in np.arange(1,10,0.1)])"
   ]
  },
  {
   "cell_type": "markdown",
   "metadata": {},
   "source": [
    "## Beta Distribution\n",
    "\n",
    "parameter :  \n",
    "alpha = TODO   \n",
    "beta = TODO\n",
    "\n",
    "definition :  \n",
    "Say there is 2 poisson process where,  \n",
    "process A need alpha number of arrival and process B need beta number of arrival  \n",
    "time(A) / time(A) + time(B) is beta distributed\n",
    "\n",
    "Beta is only available in [0,1] interval"
   ]
  },
  {
   "cell_type": "code",
   "execution_count": 22,
   "metadata": {},
   "outputs": [],
   "source": [
    "def beta(y, alpha, beta, start=0, end=10, incremental=0.01):\n",
    "    coef_nom = y**(alpha-1) * (1-y)**(beta-1)\n",
    "    coef_denom = (gamma(alpha) * gamma(beta))/(gamma(alpha+beta))\n",
    "    return coef_nom/coef_denom"
   ]
  },
  {
   "cell_type": "code",
   "execution_count": 23,
   "metadata": {},
   "outputs": [
    {
     "name": "stderr",
     "output_type": "stream",
     "text": [
      "/Users/stevanus.po/anaconda3/lib/python3.6/site-packages/ipykernel_launcher.py:4: RuntimeWarning: invalid value encountered in double_scalars\n",
      "  after removing the cwd from sys.path.\n"
     ]
    },
    {
     "data": {
      "image/png": "[encoded data removed]",
      "text/plain": [
       "<Figure size 432x288 with 1 Axes>"
      ]
     },
     "metadata": {
      "needs_background": "light"
     },
     "output_type": "display_data"
    }
   ],
   "source": [
    "generate_plot([gamma_dist(i, 2, 3) for i in np.arange(0,1,0.01)])"
   ]
  },
  {
   "cell_type": "code",
   "execution_count": null,
   "metadata": {},
   "outputs": [],
   "source": []
  }
 ],
 "metadata": {
  "kernelspec": {
   "display_name": "py37",
   "language": "python",
   "name": "py37"
  },
  "language_info": {
   "codemirror_mode": {
    "name": "ipython",
    "version": 3
   },
   "file_extension": ".py",
   "mimetype": "text/x-python",
   "name": "python",
   "nbconvert_exporter": "python",
   "pygments_lexer": "ipython3",
   "version": "3.6.8"
  }
 },
 "nbformat": 4,
 "nbformat_minor": 2
}
