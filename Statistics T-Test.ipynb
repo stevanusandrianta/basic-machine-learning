{
 "cells": [
  {
   "cell_type": "code",
   "execution_count": 1,
   "metadata": {},
   "outputs": [],
   "source": [
    "import numpy as np\n",
    "import math\n",
    "from scipy import stats"
   ]
  },
  {
   "cell_type": "markdown",
   "metadata": {},
   "source": [
    "# One sample t-test"
   ]
  },
  {
   "cell_type": "markdown",
   "metadata": {},
   "source": [
    "this function will return p_value for each operator  \n",
    "right now the supported operator is only '>' and '<'\n",
    "\n",
    "reject null hypothesis if p_value < alpha"
   ]
  },
  {
   "cell_type": "code",
   "execution_count": 2,
   "metadata": {},
   "outputs": [],
   "source": [
    "def one_sample_t(x, operator, mu):\n",
    "    n = len(x)\n",
    "    xbar = np.mean(x)\n",
    "    stdev = np.std(x)\n",
    "    \n",
    "    t = (xbar - mu) / (stdev / np.sqrt(n))\n",
    "    p_value = stats.t.cdf(t, n-1)\n",
    "    \n",
    "    if operator == '>':\n",
    "        return p_value\n",
    "    else:\n",
    "        return 1-p_value\n",
    "    \n",
    "    return p_value"
   ]
  },
  {
   "cell_type": "markdown",
   "metadata": {},
   "source": [
    "# Two sample t-test"
   ]
  },
  {
   "cell_type": "code",
   "execution_count": 3,
   "metadata": {},
   "outputs": [],
   "source": [
    "def two_sample_t(x, operator, y):\n",
    "    nom = np.mean(x) - np.mean(y)\n",
    "    denom = np.sqrt((np.var(x) / len(x)) + (np.var(y)/len(y)))\n",
    "    \n",
    "    t = nom/denom\n",
    "    p_value = stats.t.cdf(t, len(x) + len(y) - 2)\n",
    "    \n",
    "    if operator == '>':\n",
    "        return p_value\n",
    "    else:\n",
    "        return 1-p_value\n",
    "    \n",
    "    return p_value"
   ]
  },
  {
   "cell_type": "code",
   "execution_count": 87,
   "metadata": {},
   "outputs": [
    {
     "data": {
      "text/plain": [
       "0.011906469908023616"
      ]
     },
     "execution_count": 87,
     "metadata": {},
     "output_type": "execute_result"
    }
   ],
   "source": [
    "one_sample_t([1,2,3], '>', 5)"
   ]
  },
  {
   "cell_type": "code",
   "execution_count": 83,
   "metadata": {},
   "outputs": [
    {
     "data": {
      "text/plain": [
       "0.10891446766723781"
      ]
     },
     "execution_count": 83,
     "metadata": {},
     "output_type": "execute_result"
    }
   ],
   "source": [
    "two_sample_t([1,2,3,4], '>', [2,3,4,7])"
   ]
  },
  {
   "cell_type": "markdown",
   "metadata": {},
   "source": [
    "# Reflection\n",
    "\n",
    "Most of the a/b testing is comparing 2 treatment, so most of times the comparison is either `A is bigger than B` or `A is lower than B` that is why the function is only support those 2 operator\n",
    "\n",
    "One sample T-test is used when we only have 1 dataset and want to compare with some arbitrary number, while Two sample T-test is used when we have 2 dataset and want to find out if one of the dataset has significantly higher mean than the other one."
   ]
  },
  {
   "cell_type": "code",
   "execution_count": null,
   "metadata": {},
   "outputs": [],
   "source": []
  }
 ],
 "metadata": {
  "kernelspec": {
   "display_name": "Python 3",
   "language": "python",
   "name": "python3"
  },
  "language_info": {
   "codemirror_mode": {
    "name": "ipython",
    "version": 3
   },
   "file_extension": ".py",
   "mimetype": "text/x-python",
   "name": "python",
   "nbconvert_exporter": "python",
   "pygments_lexer": "ipython3",
   "version": "3.6.8"
  }
 },
 "nbformat": 4,
 "nbformat_minor": 2
}
